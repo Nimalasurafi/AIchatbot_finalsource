{
  "nbformat": 4,
  "nbformat_minor": 0,
  "metadata": {
    "colab": {
      "provenance": []
    },
    "kernelspec": {
      "name": "python3",
      "display_name": "Python 3"
    },
    "language_info": {
      "name": "python"
    }
  },
  "cells": [
    {
      "cell_type": "code",
      "execution_count": 33,
      "metadata": {
        "id": "SStk7CZqLvGO"
      },
      "outputs": [],
      "source": [
        "import nltk\n",
        "import random\n",
        "import string\n",
        "import warnings\n",
        "warnings.filterwarnings('ignore')"
      ]
    },
    {
      "cell_type": "code",
      "source": [
        "f = open('/content/restaurant.txt', 'r', errors='ignore')\n",
        "raw = f.read()\n",
        "raw = raw.lower()"
      ],
      "metadata": {
        "id": "ZRxqeXpFMCRd"
      },
      "execution_count": 34,
      "outputs": []
    },
    {
      "cell_type": "code",
      "source": [
        "raw =raw.lower()\n",
        "nltk.download('punkt')\n",
        "nltk.download('wordnet')\n",
        "nltk.download('omw-1.4')"
      ],
      "metadata": {
        "colab": {
          "base_uri": "https://localhost:8080/"
        },
        "id": "TsOD5C36OQJZ",
        "outputId": "f8a6fa6c-d19b-49bb-f830-4c3f5361cf0a"
      },
      "execution_count": 35,
      "outputs": [
        {
          "output_type": "stream",
          "name": "stderr",
          "text": [
            "[nltk_data] Downloading package punkt to /root/nltk_data...\n",
            "[nltk_data]   Package punkt is already up-to-date!\n",
            "[nltk_data] Downloading package wordnet to /root/nltk_data...\n",
            "[nltk_data]   Package wordnet is already up-to-date!\n",
            "[nltk_data] Downloading package omw-1.4 to /root/nltk_data...\n",
            "[nltk_data]   Package omw-1.4 is already up-to-date!\n"
          ]
        },
        {
          "output_type": "execute_result",
          "data": {
            "text/plain": [
              "True"
            ]
          },
          "metadata": {},
          "execution_count": 35
        }
      ]
    },
    {
      "cell_type": "code",
      "source": [
        "sent_tokens = nltk.sent_tokenize(raw) #converts to list of scentences\n",
        "word_tokens = nltk.word_tokenize(raw) #converts to list of words"
      ],
      "metadata": {
        "id": "eODMW8KhNuVY"
      },
      "execution_count": 36,
      "outputs": []
    },
    {
      "cell_type": "code",
      "source": [
        "sentToken = sent_tokens[:4]\n",
        "sentToken"
      ],
      "metadata": {
        "id": "W7liKKv_OViH",
        "colab": {
          "base_uri": "https://localhost:8080/"
        },
        "outputId": "35f4c87c-9628-466c-9c6e-ca6ed769eadc"
      },
      "execution_count": 37,
      "outputs": [
        {
          "output_type": "execute_result",
          "data": {
            "text/plain": [
              "['the restaurant name is  nida 5 star hotel.',\n",
              " 'it is luxury type ordering rooms  via chatbot is availabe.',\n",
              " 'we have a total of 10 rooms, including 4 single bed rooms, 4 double bed rooms, and 2 family rooms.',\n",
              " 'single bed rooms fees is 1000.\\n\\ndouble bed rooms fees is 2000.\\n\\nfamily roomsfees is 3500.\\n\\nany order for occasion is not available for via chatbot.']"
            ]
          },
          "metadata": {},
          "execution_count": 37
        }
      ]
    },
    {
      "cell_type": "code",
      "source": [
        "wordToken = word_tokens[:4]"
      ],
      "metadata": {
        "id": "il-pfpbAOkqn"
      },
      "execution_count": 38,
      "outputs": []
    },
    {
      "cell_type": "code",
      "source": [
        "#preprocessing\n",
        "lemmer = nltk.stem.WordNetLemmatizer()\n",
        "\n",
        "def LemTokens(tokens):\n",
        "    return [lemmer.lemmatize(token) for token in tokens]\n",
        "remove_punct_dict = dict((ord(punct), None) for punct in string.punctuation)\n",
        "\n",
        "def LemNormalize(text):\n",
        "    return LemTokens(nltk.word_tokenize(text.lower().translate(remove_punct_dict)))"
      ],
      "metadata": {
        "id": "sRZlDJHuOtLf"
      },
      "execution_count": 39,
      "outputs": []
    },
    {
      "cell_type": "code",
      "source": [
        "#Greetings\n",
        "GREETING_INPUTS = (\"hello\", \"hi\", \"greetings\", \"sup\", \"what's up\", \"hey\")\n",
        "GREETING_RESPONSES = [\"hi\", \"hey\", \"hi there\", \"hello\", \"I am glad! you are talking to me\"]\n",
        "\n",
        "def greeting(scentence):\n",
        "\n",
        "    for word in scentence.split():\n",
        "        if word.lower() in GREETING_INPUTS:\n",
        "            return random.choice(GREETING_RESPONSES)\n"
      ],
      "metadata": {
        "id": "2uuYZA2JOyEW"
      },
      "execution_count": 40,
      "outputs": []
    },
    {
      "cell_type": "code",
      "source": [
        "#Vectorizer\n",
        "\n",
        "from sklearn.feature_extraction.text import TfidfVectorizer\n",
        "from sklearn.metrics.pairwise import cosine_similarity\n"
      ],
      "metadata": {
        "id": "0A16mmTeO6gm"
      },
      "execution_count": 41,
      "outputs": []
    },
    {
      "cell_type": "code",
      "source": [
        "def response(user_response):\n",
        "    chatbot_response = ''\n",
        "    sent_tokens.append(user_response)\n",
        "    TfidfVec = TfidfVectorizer(tokenizer=LemNormalize, stop_words=\"english\")\n",
        "    tfidf = TfidfVec.fit_transform(sent_tokens)\n",
        "    vals = cosine_similarity(tfidf[-1], tfidf)\n",
        "    idx = vals.argsort()[0][-2]\n",
        "    flat = vals.flatten()\n",
        "    flat.sort()\n",
        "    req_tfidf = flat[-2]\n",
        "    if(req_tfidf == 0):\n",
        "        chatbot_response = chatbot_response + \"I am sorry! I don't understand you\"\n",
        "        return chatbot_response\n",
        "\n",
        "    else:\n",
        "        chatbot_response=chatbot_response+sent_tokens[idx]\n",
        "        return chatbot_response\n"
      ],
      "metadata": {
        "id": "V_UBGDlkPEBH"
      },
      "execution_count": 42,
      "outputs": []
    },
    {
      "cell_type": "code",
      "source": [
        "if __name__ == \"__main__\":\n",
        "    flag = True\n",
        "    print(\"Hello, there my name is Chatbot. how can i help you\")\n",
        "    while(flag==True):\n",
        "        user_response = input()\n",
        "        user_response = user_response.lower()\n",
        "        if(user_response!='bye'):\n",
        "            if user_response == 'thanks' or user_response == 'thank you':\n",
        "                flag = False\n",
        "                print(\"Bot: You're welcome!\")\n",
        "            else:\n",
        "                if(greeting(user_response)!=None):\n",
        "                    print(\"Bot :\" +greeting(user_response))\n",
        "                else:\n",
        "                    print(\"Bot:\", end='')\n",
        "                    print(response(user_response))\n",
        "                    sent_tokens.remove(user_response)\n",
        "        else:\n",
        "            flag = False\n",
        "            print(\"bot: Bye! Have a great time!\" )"
      ],
      "metadata": {
        "colab": {
          "base_uri": "https://localhost:8080/"
        },
        "id": "22w_k9KOPG6x",
        "outputId": "8535c8ab-b19d-4d04-bc14-4865b10cb577"
      },
      "execution_count": 43,
      "outputs": [
        {
          "output_type": "stream",
          "name": "stdout",
          "text": [
            "Hello, there my name is Chatbot. how can i help you\n",
            "hi\n",
            "Bot :I am glad! you are talking to me\n",
            "which type of restaurant ?\n",
            "Bot:it is luxury type ordering rooms  via chatbot is availabe.\n",
            "how many rooms are available?\n",
            "Bot:we have a total of 10 rooms, including 4 single bed rooms, 4 double bed rooms, and 2 family rooms.\n",
            "single bed rooms fees\n",
            "Bot:single bed rooms fees is 1000.\n",
            "\n",
            "double bed rooms fees is 2000.\n",
            "\n",
            "family roomsfees is 3500.\n",
            "\n",
            "any order for occasion is not available for via chatbot.\n",
            "breakfast food menu\n",
            "Bot:breakfast menu : idly,string hoppers,thosai.\n",
            "lunch food menu\n",
            "Bot:lunch menu : fried rice,chicken fried rice,chicken biriyani.\n",
            "is available to order signicant occasion via chatbot?\n",
            "Bot:single bed rooms fees is 1000.\n",
            "\n",
            "double bed rooms fees is 2000.\n",
            "\n",
            "family roomsfees is 3500.\n",
            "\n",
            "any order for occasion is not available for via chatbot.\n",
            "bye\n",
            "bot: Bye! Have a great time!\n"
          ]
        }
      ]
    },
    {
      "cell_type": "code",
      "source": [],
      "metadata": {
        "id": "e5iSy5uqXmiE"
      },
      "execution_count": null,
      "outputs": []
    },
    {
      "cell_type": "code",
      "source": [],
      "metadata": {
        "id": "eZ5gEtsNMCw3"
      },
      "execution_count": 43,
      "outputs": []
    }
  ]
}